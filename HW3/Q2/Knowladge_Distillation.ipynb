{
  "nbformat": 4,
  "nbformat_minor": 0,
  "metadata": {
    "colab": {
      "provenance": [],
      "authorship_tag": "ABX9TyMHxKsl3Nlqi4O+lROaGuB8",
      "include_colab_link": true
    },
    "kernelspec": {
      "name": "python3",
      "display_name": "Python 3"
    },
    "language_info": {
      "name": "python"
    },
    "widgets": {
      "application/vnd.jupyter.widget-state+json": {
        "dfb036e90e9245d8a3c17da4bdd03602": {
          "model_module": "@jupyter-widgets/controls",
          "model_name": "HBoxModel",
          "model_module_version": "1.5.0",
          "state": {
            "_dom_classes": [],
            "_model_module": "@jupyter-widgets/controls",
            "_model_module_version": "1.5.0",
            "_model_name": "HBoxModel",
            "_view_count": null,
            "_view_module": "@jupyter-widgets/controls",
            "_view_module_version": "1.5.0",
            "_view_name": "HBoxView",
            "box_style": "",
            "children": [
              "IPY_MODEL_d48c2af1123448dd8c1e989463c3193c",
              "IPY_MODEL_498a7fbbffc6448e82c7434cefc299fb",
              "IPY_MODEL_06e66c0df75a4203b3955c22c2a0ab11"
            ],
            "layout": "IPY_MODEL_141a7ee8650645b2a5ad8b2f974a4059"
          }
        },
        "d48c2af1123448dd8c1e989463c3193c": {
          "model_module": "@jupyter-widgets/controls",
          "model_name": "HTMLModel",
          "model_module_version": "1.5.0",
          "state": {
            "_dom_classes": [],
            "_model_module": "@jupyter-widgets/controls",
            "_model_module_version": "1.5.0",
            "_model_name": "HTMLModel",
            "_view_count": null,
            "_view_module": "@jupyter-widgets/controls",
            "_view_module_version": "1.5.0",
            "_view_name": "HTMLView",
            "description": "",
            "description_tooltip": null,
            "layout": "IPY_MODEL_f53a2328ea2d47248ded56cbacf0babc",
            "placeholder": "​",
            "style": "IPY_MODEL_45504a30c1e2470ab3c33e2fe5c7de87",
            "value": "100%"
          }
        },
        "498a7fbbffc6448e82c7434cefc299fb": {
          "model_module": "@jupyter-widgets/controls",
          "model_name": "FloatProgressModel",
          "model_module_version": "1.5.0",
          "state": {
            "_dom_classes": [],
            "_model_module": "@jupyter-widgets/controls",
            "_model_module_version": "1.5.0",
            "_model_name": "FloatProgressModel",
            "_view_count": null,
            "_view_module": "@jupyter-widgets/controls",
            "_view_module_version": "1.5.0",
            "_view_name": "ProgressView",
            "bar_style": "success",
            "description": "",
            "description_tooltip": null,
            "layout": "IPY_MODEL_8d774b7f24dc4483b04df55efb887fa6",
            "max": 102530333,
            "min": 0,
            "orientation": "horizontal",
            "style": "IPY_MODEL_7a5e05f4ca7d4881afe05872132df274",
            "value": 102530333
          }
        },
        "06e66c0df75a4203b3955c22c2a0ab11": {
          "model_module": "@jupyter-widgets/controls",
          "model_name": "HTMLModel",
          "model_module_version": "1.5.0",
          "state": {
            "_dom_classes": [],
            "_model_module": "@jupyter-widgets/controls",
            "_model_module_version": "1.5.0",
            "_model_name": "HTMLModel",
            "_view_count": null,
            "_view_module": "@jupyter-widgets/controls",
            "_view_module_version": "1.5.0",
            "_view_name": "HTMLView",
            "description": "",
            "description_tooltip": null,
            "layout": "IPY_MODEL_7da315d9e12e4485b2df88642823e45a",
            "placeholder": "​",
            "style": "IPY_MODEL_b44475eb46a74cfd8e1df8ef352d17fe",
            "value": " 97.8M/97.8M [00:01&lt;00:00, 102MB/s]"
          }
        },
        "141a7ee8650645b2a5ad8b2f974a4059": {
          "model_module": "@jupyter-widgets/base",
          "model_name": "LayoutModel",
          "model_module_version": "1.2.0",
          "state": {
            "_model_module": "@jupyter-widgets/base",
            "_model_module_version": "1.2.0",
            "_model_name": "LayoutModel",
            "_view_count": null,
            "_view_module": "@jupyter-widgets/base",
            "_view_module_version": "1.2.0",
            "_view_name": "LayoutView",
            "align_content": null,
            "align_items": null,
            "align_self": null,
            "border": null,
            "bottom": null,
            "display": null,
            "flex": null,
            "flex_flow": null,
            "grid_area": null,
            "grid_auto_columns": null,
            "grid_auto_flow": null,
            "grid_auto_rows": null,
            "grid_column": null,
            "grid_gap": null,
            "grid_row": null,
            "grid_template_areas": null,
            "grid_template_columns": null,
            "grid_template_rows": null,
            "height": null,
            "justify_content": null,
            "justify_items": null,
            "left": null,
            "margin": null,
            "max_height": null,
            "max_width": null,
            "min_height": null,
            "min_width": null,
            "object_fit": null,
            "object_position": null,
            "order": null,
            "overflow": null,
            "overflow_x": null,
            "overflow_y": null,
            "padding": null,
            "right": null,
            "top": null,
            "visibility": null,
            "width": null
          }
        },
        "f53a2328ea2d47248ded56cbacf0babc": {
          "model_module": "@jupyter-widgets/base",
          "model_name": "LayoutModel",
          "model_module_version": "1.2.0",
          "state": {
            "_model_module": "@jupyter-widgets/base",
            "_model_module_version": "1.2.0",
            "_model_name": "LayoutModel",
            "_view_count": null,
            "_view_module": "@jupyter-widgets/base",
            "_view_module_version": "1.2.0",
            "_view_name": "LayoutView",
            "align_content": null,
            "align_items": null,
            "align_self": null,
            "border": null,
            "bottom": null,
            "display": null,
            "flex": null,
            "flex_flow": null,
            "grid_area": null,
            "grid_auto_columns": null,
            "grid_auto_flow": null,
            "grid_auto_rows": null,
            "grid_column": null,
            "grid_gap": null,
            "grid_row": null,
            "grid_template_areas": null,
            "grid_template_columns": null,
            "grid_template_rows": null,
            "height": null,
            "justify_content": null,
            "justify_items": null,
            "left": null,
            "margin": null,
            "max_height": null,
            "max_width": null,
            "min_height": null,
            "min_width": null,
            "object_fit": null,
            "object_position": null,
            "order": null,
            "overflow": null,
            "overflow_x": null,
            "overflow_y": null,
            "padding": null,
            "right": null,
            "top": null,
            "visibility": null,
            "width": null
          }
        },
        "45504a30c1e2470ab3c33e2fe5c7de87": {
          "model_module": "@jupyter-widgets/controls",
          "model_name": "DescriptionStyleModel",
          "model_module_version": "1.5.0",
          "state": {
            "_model_module": "@jupyter-widgets/controls",
            "_model_module_version": "1.5.0",
            "_model_name": "DescriptionStyleModel",
            "_view_count": null,
            "_view_module": "@jupyter-widgets/base",
            "_view_module_version": "1.2.0",
            "_view_name": "StyleView",
            "description_width": ""
          }
        },
        "8d774b7f24dc4483b04df55efb887fa6": {
          "model_module": "@jupyter-widgets/base",
          "model_name": "LayoutModel",
          "model_module_version": "1.2.0",
          "state": {
            "_model_module": "@jupyter-widgets/base",
            "_model_module_version": "1.2.0",
            "_model_name": "LayoutModel",
            "_view_count": null,
            "_view_module": "@jupyter-widgets/base",
            "_view_module_version": "1.2.0",
            "_view_name": "LayoutView",
            "align_content": null,
            "align_items": null,
            "align_self": null,
            "border": null,
            "bottom": null,
            "display": null,
            "flex": null,
            "flex_flow": null,
            "grid_area": null,
            "grid_auto_columns": null,
            "grid_auto_flow": null,
            "grid_auto_rows": null,
            "grid_column": null,
            "grid_gap": null,
            "grid_row": null,
            "grid_template_areas": null,
            "grid_template_columns": null,
            "grid_template_rows": null,
            "height": null,
            "justify_content": null,
            "justify_items": null,
            "left": null,
            "margin": null,
            "max_height": null,
            "max_width": null,
            "min_height": null,
            "min_width": null,
            "object_fit": null,
            "object_position": null,
            "order": null,
            "overflow": null,
            "overflow_x": null,
            "overflow_y": null,
            "padding": null,
            "right": null,
            "top": null,
            "visibility": null,
            "width": null
          }
        },
        "7a5e05f4ca7d4881afe05872132df274": {
          "model_module": "@jupyter-widgets/controls",
          "model_name": "ProgressStyleModel",
          "model_module_version": "1.5.0",
          "state": {
            "_model_module": "@jupyter-widgets/controls",
            "_model_module_version": "1.5.0",
            "_model_name": "ProgressStyleModel",
            "_view_count": null,
            "_view_module": "@jupyter-widgets/base",
            "_view_module_version": "1.2.0",
            "_view_name": "StyleView",
            "bar_color": null,
            "description_width": ""
          }
        },
        "7da315d9e12e4485b2df88642823e45a": {
          "model_module": "@jupyter-widgets/base",
          "model_name": "LayoutModel",
          "model_module_version": "1.2.0",
          "state": {
            "_model_module": "@jupyter-widgets/base",
            "_model_module_version": "1.2.0",
            "_model_name": "LayoutModel",
            "_view_count": null,
            "_view_module": "@jupyter-widgets/base",
            "_view_module_version": "1.2.0",
            "_view_name": "LayoutView",
            "align_content": null,
            "align_items": null,
            "align_self": null,
            "border": null,
            "bottom": null,
            "display": null,
            "flex": null,
            "flex_flow": null,
            "grid_area": null,
            "grid_auto_columns": null,
            "grid_auto_flow": null,
            "grid_auto_rows": null,
            "grid_column": null,
            "grid_gap": null,
            "grid_row": null,
            "grid_template_areas": null,
            "grid_template_columns": null,
            "grid_template_rows": null,
            "height": null,
            "justify_content": null,
            "justify_items": null,
            "left": null,
            "margin": null,
            "max_height": null,
            "max_width": null,
            "min_height": null,
            "min_width": null,
            "object_fit": null,
            "object_position": null,
            "order": null,
            "overflow": null,
            "overflow_x": null,
            "overflow_y": null,
            "padding": null,
            "right": null,
            "top": null,
            "visibility": null,
            "width": null
          }
        },
        "b44475eb46a74cfd8e1df8ef352d17fe": {
          "model_module": "@jupyter-widgets/controls",
          "model_name": "DescriptionStyleModel",
          "model_module_version": "1.5.0",
          "state": {
            "_model_module": "@jupyter-widgets/controls",
            "_model_module_version": "1.5.0",
            "_model_name": "DescriptionStyleModel",
            "_view_count": null,
            "_view_module": "@jupyter-widgets/base",
            "_view_module_version": "1.2.0",
            "_view_name": "StyleView",
            "description_width": ""
          }
        }
      }
    },
    "accelerator": "GPU",
    "gpuClass": "standard"
  },
  "cells": [
    {
      "cell_type": "markdown",
      "metadata": {
        "id": "view-in-github",
        "colab_type": "text"
      },
      "source": [
        "<a href=\"https://colab.research.google.com/github/farbodyadollahi8081/Deep-Learning/blob/main/HW3/Q2/Knowladge_Distillation.ipynb\" target=\"_parent\"><img src=\"https://colab.research.google.com/assets/colab-badge.svg\" alt=\"Open In Colab\"/></a>"
      ]
    },
    {
      "cell_type": "markdown",
      "source": [
        "# Deep Learning HW3 question 2 Knowladge Distillation\n",
        "\n",
        "Student Name: Farbod Yadollahi\n",
        "\n",
        "Student Number: 98102595"
      ],
      "metadata": {
        "id": "IDkQzDqCOueo"
      }
    },
    {
      "cell_type": "code",
      "execution_count": 5,
      "metadata": {
        "id": "e212WaxwEu88"
      },
      "outputs": [],
      "source": [
        "import time\n",
        "import copy\n",
        "import numpy as np\n",
        "import pandas as pd\n",
        "import matplotlib.pyplot as plt\n",
        "import torch\n",
        "import torchvision\n",
        "from torchvision import datasets, transforms\n",
        "from torchsummary import summary\n",
        "from torch.optim import lr_scheduler\n",
        "import torch.nn.functional as F\n",
        "import torch.nn as nn\n",
        "import torchvision.models as models\n",
        "from torch import nn, optim"
      ]
    },
    {
      "cell_type": "markdown",
      "source": [
        "loading CIFAR10 dataset"
      ],
      "metadata": {
        "id": "sL0vNnnnQoE-"
      }
    },
    {
      "cell_type": "code",
      "source": [
        "transform = transforms.Compose([transforms.Resize((224,224)),\n",
        "                                transforms.ToTensor(),\n",
        "                                transforms.Normalize([0.485,0.456,  \n",
        "                                0.406], [0.229, 0.224, 0.225])])\n",
        "trainset = datasets.CIFAR10('/content/train/', download=True, train=True, transform=transform)\n",
        "valset = datasets.CIFAR10('/content/val/', download=True, train=False, transform=transform)\n",
        "trainloader = torch.utils.data.DataLoader(trainset, batch_size=64, shuffle=True)\n",
        "valloader = torch.utils.data.DataLoader(valset, batch_size=64, shuffle=True)\n",
        "len_trainset = len(trainset)\n",
        "len_valset = len(valset)\n",
        "classes = ('plane', 'car', 'bird', 'cat','deer', 'dog', 'frog', 'horse', 'ship', 'truck')\n",
        "device = torch.device('cuda:0' if torch.cuda.is_available() else 'cpu')\n",
        "print(device)"
      ],
      "metadata": {
        "colab": {
          "base_uri": "https://localhost:8080/"
        },
        "id": "g6ERLsC6PbgM",
        "outputId": "96c1beef-efe2-467e-c654-7ba3c94fd21e"
      },
      "execution_count": 6,
      "outputs": [
        {
          "output_type": "stream",
          "name": "stdout",
          "text": [
            "Files already downloaded and verified\n",
            "Files already downloaded and verified\n",
            "cpu\n"
          ]
        }
      ]
    },
    {
      "cell_type": "markdown",
      "source": [
        "### Part A: Teacher model Preparation"
      ],
      "metadata": {
        "id": "Nb1KcES-Q_Fv"
      }
    },
    {
      "cell_type": "code",
      "source": [
        "resnet = models.resnet50(pretrained=True)\n",
        "for param in resnet.parameters():\n",
        "   param.requires_grad = False\n",
        "numClasses = resnet.fc.in_features\n",
        "resnet.fc = nn.Linear(numClasses, 10)\n",
        "resnet = resnet.to(device)\n",
        "lossFunction = nn.CrossEntropyLoss()\n",
        "optimizer = optim.Adam(resnet.fc.parameters())"
      ],
      "metadata": {
        "colab": {
          "base_uri": "https://localhost:8080/",
          "height": 160,
          "referenced_widgets": [
            "dfb036e90e9245d8a3c17da4bdd03602",
            "d48c2af1123448dd8c1e989463c3193c",
            "498a7fbbffc6448e82c7434cefc299fb",
            "06e66c0df75a4203b3955c22c2a0ab11",
            "141a7ee8650645b2a5ad8b2f974a4059",
            "f53a2328ea2d47248ded56cbacf0babc",
            "45504a30c1e2470ab3c33e2fe5c7de87",
            "8d774b7f24dc4483b04df55efb887fa6",
            "7a5e05f4ca7d4881afe05872132df274",
            "7da315d9e12e4485b2df88642823e45a",
            "b44475eb46a74cfd8e1df8ef352d17fe"
          ]
        },
        "id": "V8m31mUpQ9LQ",
        "outputId": "9e4ffb41-7bc3-4e17-8819-f7086defe736"
      },
      "execution_count": 7,
      "outputs": [
        {
          "output_type": "stream",
          "name": "stderr",
          "text": [
            "/usr/local/lib/python3.8/dist-packages/torchvision/models/_utils.py:208: UserWarning: The parameter 'pretrained' is deprecated since 0.13 and may be removed in the future, please use 'weights' instead.\n",
            "  warnings.warn(\n",
            "/usr/local/lib/python3.8/dist-packages/torchvision/models/_utils.py:223: UserWarning: Arguments other than a weight enum or `None` for 'weights' are deprecated since 0.13 and may be removed in the future. The current behavior is equivalent to passing `weights=ResNet50_Weights.IMAGENET1K_V1`. You can also use `weights=ResNet50_Weights.DEFAULT` to get the most up-to-date weights.\n",
            "  warnings.warn(msg)\n",
            "Downloading: \"https://download.pytorch.org/models/resnet50-0676ba61.pth\" to /root/.cache/torch/hub/checkpoints/resnet50-0676ba61.pth\n"
          ]
        },
        {
          "output_type": "display_data",
          "data": {
            "text/plain": [
              "  0%|          | 0.00/97.8M [00:00<?, ?B/s]"
            ],
            "application/vnd.jupyter.widget-view+json": {
              "version_major": 2,
              "version_minor": 0,
              "model_id": "dfb036e90e9245d8a3c17da4bdd03602"
            }
          },
          "metadata": {}
        }
      ]
    },
    {
      "cell_type": "code",
      "source": [
        "def trainTest(model, trainloader, valloader, lossFunction, optimizer, len_trainset, len_valset, num_epochs=25):\n",
        "   model.train()\n",
        "   best_model_wts = copy.deepcopy(model.state_dict())\n",
        "   best_acc = 0.0\n",
        "   for epoch in range(num_epochs):\n",
        "      model.train()\n",
        "      print('Epoch {}/{}'.format(epoch, num_epochs-1))\n",
        "      print('-' * 10)\n",
        "      running_loss = 0.0\n",
        "      running_corrects = 0\n",
        "      for inputs, labels in trainloader:\n",
        "         inputs = inputs.to(device)\n",
        "         labels = labels.to(device)\n",
        "         optimizer.zero_grad()\n",
        "         outputs = model(inputs)\n",
        "         loss = lossFunction(outputs, labels)\n",
        "         _, preds = torch.max(outputs, 1)\n",
        "         loss.backward() \n",
        "         optimizer.step()  \n",
        "         running_loss += loss.item() * inputs.size(0)\n",
        "         running_corrects += torch.sum(preds == labels.data)\n",
        "      epoch_loss = running_loss / len_trainset\n",
        "      epoch_acc = running_corrects.double() / len_trainset\n",
        "      print(' Train Loss: {:.4f} Acc: {:.4f}'.format(epoch_loss,\n",
        "             epoch_acc)) \n",
        "         \n",
        "      model.eval()\n",
        "      running_loss_val = 0.0 \n",
        "      running_corrects_val = 0\n",
        "      for inputs, labels in valloader:\n",
        "         inputs = inputs.to(device)\n",
        "         labels = labels.to(device)\n",
        "         outputs = model(inputs) \n",
        "         loss = lossFunction(outputs,labels)\n",
        "         _, preds = torch.max(outputs, 1)\n",
        "         running_loss_val += loss.item() * inputs.size(0)\n",
        "         running_corrects_val += torch.sum(preds == labels.data)\n",
        "      \n",
        "      epoch_loss_val = running_loss_val / len_valset\n",
        "      epoch_acc_val = running_corrects_val.double() / len_valset\n",
        "      \n",
        "      if epoch_acc_val > best_acc:\n",
        "         best_acc = epoch_acc_val\n",
        "         best_model_wts = copy.deepcopy(model.state_dict())\n",
        "      \n",
        "      print(' Val Loss: {:.4f} Acc: {:.4f}'.format(epoch_loss_val,\n",
        "             epoch_acc_val))\n",
        "      \n",
        "      print()\n",
        "      print('Best val Acc: {:4f}'.format(best_acc))\n",
        "      model.load_state_dict(best_model_wts)\n",
        "   return model"
      ],
      "metadata": {
        "id": "rw9ngyIaSTzA"
      },
      "execution_count": 8,
      "outputs": []
    },
    {
      "cell_type": "code",
      "source": [
        "resnet_teacher = trainTest(resnet,trainloader,\n",
        "                                   valloader,lossFunction,optimizer,\n",
        "                                   len_trainset,len_valset,10)"
      ],
      "metadata": {
        "colab": {
          "base_uri": "https://localhost:8080/"
        },
        "id": "zyHt6PPDT9q3",
        "outputId": "74507e54-aa74-40e5-f635-c231db32c8f8"
      },
      "execution_count": null,
      "outputs": [
        {
          "output_type": "stream",
          "name": "stdout",
          "text": [
            "Epoch 0/9\n",
            "----------\n",
            " Train Loss: 0.7595 Acc: 0.7469\n",
            " Val Loss: 0.5872 Acc: 0.7991\n",
            "\n",
            "Best val Acc: 0.799100\n",
            "Epoch 1/9\n",
            "----------\n",
            " Train Loss: 0.5928 Acc: 0.7950\n",
            " Val Loss: 0.5550 Acc: 0.8073\n",
            "\n",
            "Best val Acc: 0.807300\n",
            "Epoch 2/9\n",
            "----------\n",
            " Train Loss: 0.5595 Acc: 0.8061\n",
            " Val Loss: 0.5583 Acc: 0.8065\n",
            "\n",
            "Best val Acc: 0.807300\n",
            "Epoch 3/9\n",
            "----------\n",
            " Train Loss: 0.5688 Acc: 0.8041\n",
            " Val Loss: 0.5427 Acc: 0.8148\n",
            "\n",
            "Best val Acc: 0.814800\n",
            "Epoch 4/9\n",
            "----------\n",
            " Train Loss: 0.5465 Acc: 0.8097\n",
            " Val Loss: 0.5344 Acc: 0.8168\n",
            "\n",
            "Best val Acc: 0.816800\n",
            "Epoch 5/9\n",
            "----------\n",
            " Train Loss: 0.5282 Acc: 0.8168\n",
            " Val Loss: 0.5355 Acc: 0.8161\n",
            "\n",
            "Best val Acc: 0.816800\n",
            "Epoch 6/9\n",
            "----------\n",
            " Train Loss: 0.5350 Acc: 0.8149\n",
            " Val Loss: 0.5428 Acc: 0.8147\n",
            "\n",
            "Best val Acc: 0.816800\n",
            "Epoch 7/9\n",
            "----------\n",
            " Train Loss: 0.5309 Acc: 0.8157\n",
            " Val Loss: 0.5250 Acc: 0.8235\n",
            "\n",
            "Best val Acc: 0.823500\n",
            "Epoch 8/9\n",
            "----------\n",
            " Train Loss: 0.5225 Acc: 0.8187\n",
            " Val Loss: 0.5081 Acc: 0.8241\n",
            "\n",
            "Best val Acc: 0.824100\n",
            "Epoch 9/9\n",
            "----------\n",
            " Train Loss: 0.5082 Acc: 0.8237\n",
            " Val Loss: 0.5246 Acc: 0.8181\n",
            "\n",
            "Best val Acc: 0.824100\n"
          ]
        }
      ]
    },
    {
      "cell_type": "markdown",
      "source": [
        "best acc =0.8241"
      ],
      "metadata": {
        "id": "ZjsHWcuXJzd-"
      }
    },
    {
      "cell_type": "markdown",
      "source": [
        "### Part B: Training Student with the Teacher"
      ],
      "metadata": {
        "id": "YQQRG4hTpeyQ"
      }
    },
    {
      "cell_type": "code",
      "source": [
        "student_model=models.resnet18()\n",
        "NCS = student_model.fc.in_features  #number of classes in student model\n",
        "student_model.fc = nn.Linear(NCS, 10)\n",
        "student_model = student_model.to(device)\n"
      ],
      "metadata": {
        "id": "SrAGEe90k1bB"
      },
      "execution_count": 9,
      "outputs": []
    },
    {
      "cell_type": "code",
      "source": [
        "def loss_kd(outputs, labels, teacher_outputs, temparature, alpha):\n",
        "   KD_loss = nn.KLDivLoss()(F.log_softmax(outputs/temparature, \n",
        "             dim=1),F.softmax(teacher_outputs/temparature,dim=1)) * (alpha * temparature * temparature) + F.cross_entropy(outputs, labels) * (1. - alpha)\n",
        "   return KD_loss\n",
        "def get_outputs(model, dataloader):\n",
        "   outputs = []\n",
        "   for inputs, labels in dataloader:\n",
        "      inputs_batch, labels_batch = inputs.cuda(), labels.cuda()\n",
        "      output_batch = model(inputs_batch).data.cpu().numpy()\n",
        "      outputs.append(output_batch)\n",
        "   return outputs\n"
      ],
      "metadata": {
        "id": "aW_wQLWhlrjg"
      },
      "execution_count": 10,
      "outputs": []
    },
    {
      "cell_type": "code",
      "source": [
        "def train_kd(model,teacher_out, optimizer, loss_kd, dataloader, temparature, alpha):\n",
        "   model.train()\n",
        "   running_loss = 0.0\n",
        "   running_corrects = 0\n",
        "   for i,(images, labels) in enumerate(dataloader):\n",
        "      inputs = images.to(device)\n",
        "      labels = labels.to(device)\n",
        "      optimizer.zero_grad()\n",
        "      outputs = model(inputs)\n",
        "      outputs_teacher = torch.from_numpy(teacher_out[i]).to(device)\n",
        "      loss = loss_kd(outputs,labels,outputs_teacher,temparature, \n",
        "                     alpha)\n",
        "      _, preds = torch.max(outputs, 1)\n",
        "      loss.backward()\n",
        "      optimizer.step()\n",
        "      running_loss += loss.item() * inputs.size(0)\n",
        "      running_corrects += torch.sum(preds == labels.data)\n",
        "   \n",
        "   epoch_loss = running_loss / len(trainset)\n",
        "   epoch_acc = running_corrects.double() / len(trainset)\n",
        "   print('Train Loss: {:.4f} Acc: {:.4f}'.format(epoch_loss, \n",
        "          epoch_acc))\n",
        "def eval_kd(model,teacher_out, optimizer, loss_kd, dataloader, temparature, alpha):\n",
        "   model.eval()\n",
        "   running_loss = 0.0\n",
        "   running_corrects = 0\n",
        "   for i,(images, labels) in enumerate(dataloader):\n",
        "      inputs = images.to(device)\n",
        "      labels = labels.to(device)\n",
        "      outputs = model(inputs)\n",
        "      outputs_teacher = torch.from_numpy(teacher_out[i]).cuda()\n",
        "      loss = loss_kd(outputs,labels,outputs_teacher,temparature, \n",
        "                     alpha)\n",
        "      _, preds = torch.max(outputs, 1)\n",
        "      running_loss += loss.item() * inputs.size(0)\n",
        "      running_corrects += torch.sum(preds == labels.data)\n",
        "   epoch_loss = running_loss / len(valset)\n",
        "   epoch_acc = running_corrects.double() / len(valset)\n",
        "   print(' Val Loss: {:.4f} Acc: {:.4f}'.format(epoch_loss,\n",
        "          epoch_acc))\n",
        "   return epoch_acc\n",
        "def train_and_evaluate_kd(model, teacher_model, optimizer, loss_kd, trainloader, valloader, temparature, alpha, num_epochs=25):\n",
        "   teacher_model.eval()\n",
        "   best_model_wts = copy.deepcopy(model.state_dict())\n",
        "   outputs_teacher_train = get_outputs(teacher_model, trainloader)\n",
        "   outputs_teacher_val = get_outputs(teacher_model, valloader)\n",
        "   print(\"Teacher's outputs are computed now starting the training process-\")\n",
        "   best_acc = 0.0\n",
        "   for epoch in range(num_epochs):\n",
        "      print('Epoch {}/{}'.format(epoch, num_epochs -1))\n",
        "      print('-' * 10)\n",
        "      \n",
        "      # Training the student with the soft labes as the outputs from the teacher and using the loss_kd function\n",
        "      \n",
        "      train_kd(model, outputs_teacher_train, \n",
        "               optim.Adam(student_model.parameters()),loss_kd,trainloader, \n",
        "               temparature, alpha)\n",
        "     \n",
        "      # Evaluating the student network\n",
        "      epoch_acc_val = eval_kd(model, outputs_teacher_val, optim.Adam(student_model.parameters()), loss_kd, valloader, temparature, alpha)\n",
        "      if epoch_acc_val > best_acc:\n",
        "         best_acc = epoch_acc_val\n",
        "         best_model_wts = copy.deepcopy(model.state_dict())\n",
        "         print('Best val Acc: {:4f}'.format(best_acc))\n",
        "         model.load_state_dict(best_model_wts)\n",
        "   return model"
      ],
      "metadata": {
        "id": "N7ixJz8cmCJE"
      },
      "execution_count": 11,
      "outputs": []
    },
    {
      "cell_type": "code",
      "source": [
        "stud=train_and_evaluate_kd(student_model,resnet_teacher, optim.Adam(student_model.parameters()),loss_kd,trainloader,valloader,1,0.5,20)"
      ],
      "metadata": {
        "colab": {
          "base_uri": "https://localhost:8080/"
        },
        "id": "61DlGxC_oVLX",
        "outputId": "f6899ff6-cb39-4f48-db3a-5c5baf42d080"
      },
      "execution_count": null,
      "outputs": [
        {
          "output_type": "stream",
          "name": "stdout",
          "text": [
            "Teacher's outputs are computed now starting the training process-\n",
            "Epoch 0/19\n",
            "----------\n",
            "Train Loss: 0.4215 Acc: 0.8651\n",
            " Val Loss: 0.4657 Acc: 0.8236\n",
            "Best val Acc: 0.823600\n",
            "Epoch 1/19\n",
            "----------\n",
            "Train Loss: 0.3796 Acc: 0.9002\n",
            " Val Loss: 0.4612 Acc: 0.8323\n",
            "Best val Acc: 0.832300\n",
            "Epoch 2/19\n",
            "----------\n",
            "Train Loss: 0.3430 Acc: 0.9316\n",
            " Val Loss: 0.4417 Acc: 0.8444\n",
            "Best val Acc: 0.844400\n",
            "Epoch 3/19\n",
            "----------\n",
            "Train Loss: 0.3111 Acc: 0.9549\n",
            " Val Loss: 0.4660 Acc: 0.8348\n",
            "Epoch 4/19\n",
            "----------\n",
            "Train Loss: 0.2877 Acc: 0.9748\n",
            " Val Loss: 0.4349 Acc: 0.8548\n",
            "Best val Acc: 0.854800\n",
            "Epoch 5/19\n",
            "----------\n",
            "Train Loss: 0.2743 Acc: 0.9828\n",
            " Val Loss: 0.4592 Acc: 0.8314\n",
            "Epoch 6/19\n",
            "----------\n",
            "Train Loss: 0.2651 Acc: 0.9886\n",
            " Val Loss: 0.4315 Acc: 0.8562\n",
            "Best val Acc: 0.856200\n",
            "Epoch 7/19\n",
            "----------\n",
            "Train Loss: 0.2569 Acc: 0.9921\n",
            " Val Loss: 0.4286 Acc: 0.8574\n",
            "Best val Acc: 0.857400\n",
            "Epoch 8/19\n",
            "----------\n",
            "Train Loss: 0.2533 Acc: 0.9938\n",
            " Val Loss: 0.4324 Acc: 0.8550\n",
            "Epoch 9/19\n",
            "----------\n",
            "Train Loss: 0.2507 Acc: 0.9946\n",
            " Val Loss: 0.4417 Acc: 0.8512\n",
            "Epoch 10/19\n",
            "----------\n",
            "Train Loss: 0.2486 Acc: 0.9955\n",
            " Val Loss: 0.4182 Acc: 0.8616\n",
            "Best val Acc: 0.861600\n",
            "Epoch 11/19\n",
            "----------\n",
            "Train Loss: 0.2462 Acc: 0.9960\n",
            " Val Loss: 0.4619 Acc: 0.8397\n",
            "Epoch 12/19\n",
            "----------\n",
            "Train Loss: 0.2450 Acc: 0.9965\n",
            " Val Loss: 0.4133 Acc: 0.8694\n",
            "Best val Acc: 0.869400\n",
            "Epoch 13/19\n",
            "----------\n",
            "Train Loss: 0.2435 Acc: 0.9970\n",
            " Val Loss: 0.4341 Acc: 0.8569\n",
            "Epoch 14/19\n",
            "----------\n",
            "Train Loss: 0.2440 Acc: 0.9963\n",
            " Val Loss: 0.4291 Acc: 0.8561\n",
            "Epoch 15/19\n",
            "----------\n",
            "Train Loss: 0.2423 Acc: 0.9972\n",
            " Val Loss: 0.4102 Acc: 0.8734\n",
            "Best val Acc: 0.873400\n",
            "Epoch 16/19\n",
            "----------\n",
            "Train Loss: 0.2414 Acc: 0.9975\n",
            " Val Loss: 0.4180 Acc: 0.8641\n",
            "Epoch 17/19\n",
            "----------\n",
            "Train Loss: 0.2395 Acc: 0.9981\n",
            " Val Loss: 0.4143 Acc: 0.8665\n",
            "Epoch 18/19\n",
            "----------\n",
            "Train Loss: 0.2400 Acc: 0.9977\n",
            " Val Loss: 0.4277 Acc: 0.8587\n",
            "Epoch 19/19\n",
            "----------\n",
            "Train Loss: 0.2395 Acc: 0.9981\n",
            " Val Loss: 0.4164 Acc: 0.8661\n"
          ]
        }
      ]
    },
    {
      "cell_type": "markdown",
      "source": [
        "best acc = 0.8734"
      ],
      "metadata": {
        "id": "U2K4Tma2CWK-"
      }
    },
    {
      "cell_type": "markdown",
      "source": [
        "### Part C: Training RESNET18 without the Teacher"
      ],
      "metadata": {
        "id": "VsQnJFo6sg4B"
      }
    },
    {
      "cell_type": "code",
      "source": [
        "NNwithoutTeacher = models.resnet18()\n",
        "noFTRS = NNwithoutTeacher.fc.in_features\n",
        "NNwithoutTeacher.fc = nn.Linear(noFTRS, 10)\n",
        "NNwithoutTeacher =  NNwithoutTeacher.to(device)\n",
        "lossFunction = nn.CrossEntropyLoss()\n",
        "optimizer2 = optim.Adam(NNwithoutTeacher.parameters())"
      ],
      "metadata": {
        "id": "5TpcKVa_so-_"
      },
      "execution_count": 12,
      "outputs": []
    },
    {
      "cell_type": "code",
      "source": [
        "New_resnet_18 = trainTest(NNwithoutTeacher,trainloader,\n",
        "                                   valloader,lossFunction,optimizer2,\n",
        "                                   len_trainset,len_valset,10)"
      ],
      "metadata": {
        "colab": {
          "base_uri": "https://localhost:8080/"
        },
        "id": "mlfN-_Nqs2R8",
        "outputId": "5f0bce5c-6ef7-45c3-ef32-c9c8176f8f29"
      },
      "execution_count": null,
      "outputs": [
        {
          "output_type": "stream",
          "name": "stdout",
          "text": [
            "Epoch 0/9\n",
            "----------\n",
            " Train Loss: 1.3268 Acc: 0.5166\n",
            " Val Loss: 1.1159 Acc: 0.6142\n",
            "\n",
            "Best val Acc: 0.614200\n",
            "Epoch 1/9\n",
            "----------\n",
            " Train Loss: 0.7994 Acc: 0.7186\n",
            " Val Loss: 0.7644 Acc: 0.7311\n",
            "\n",
            "Best val Acc: 0.731100\n",
            "Epoch 2/9\n",
            "----------\n",
            " Train Loss: 0.5987 Acc: 0.7910\n",
            " Val Loss: 0.8245 Acc: 0.7155\n",
            "\n",
            "Best val Acc: 0.731100\n",
            "Epoch 3/9\n",
            "----------\n",
            " Train Loss: 0.6109 Acc: 0.7848\n",
            " Val Loss: 0.6539 Acc: 0.7744\n",
            "\n",
            "Best val Acc: 0.774400\n",
            "Epoch 4/9\n",
            "----------\n",
            " Train Loss: 0.4760 Acc: 0.8340\n",
            " Val Loss: 0.6287 Acc: 0.7840\n",
            "\n",
            "Best val Acc: 0.784000\n",
            "Epoch 5/9\n",
            "----------\n",
            " Train Loss: 0.3722 Acc: 0.8689\n",
            " Val Loss: 0.5270 Acc: 0.8267\n",
            "\n",
            "Best val Acc: 0.826700\n",
            "Epoch 6/9\n",
            "----------\n",
            " Train Loss: 0.2886 Acc: 0.8992\n",
            " Val Loss: 0.5351 Acc: 0.8220\n",
            "\n",
            "Best val Acc: 0.826700\n",
            "Epoch 7/9\n",
            "----------\n",
            " Train Loss: 0.2950 Acc: 0.8966\n",
            " Val Loss: 0.5912 Acc: 0.8179\n",
            "\n",
            "Best val Acc: 0.826700\n",
            "Epoch 8/9\n",
            "----------\n",
            " Train Loss: 0.2968 Acc: 0.8964\n",
            " Val Loss: 0.5190 Acc: 0.8288\n",
            "\n",
            "Best val Acc: 0.828800\n",
            "Epoch 9/9\n",
            "----------\n",
            " Train Loss: 0.2168 Acc: 0.9229\n",
            " Val Loss: 0.5258 Acc: 0.8375\n",
            "\n",
            "Best val Acc: 0.837500\n"
          ]
        }
      ]
    },
    {
      "cell_type": "markdown",
      "source": [
        "best acc =0.8375"
      ],
      "metadata": {
        "id": "H_qtTwKNJ6I_"
      }
    },
    {
      "cell_type": "markdown",
      "source": [
        "as it is obvious, the accuracy in the case without teacher is a bit less than the case when we use the teacher. because by the use of pretrained bigger teacher model, we train the student model to be accustomed to the complexity of data. while raw training frustrates the student model to be well trained on the complexity of data."
      ],
      "metadata": {
        "id": "4TdCK5uWe6S8"
      }
    },
    {
      "cell_type": "markdown",
      "source": [
        "### Part D: Full Fine Tuning"
      ],
      "metadata": {
        "id": "zEa_SAvAti52"
      }
    },
    {
      "cell_type": "code",
      "source": [
        "New_Teacher = models.resnet50()\n",
        "noFTRS1 = New_Teacher.fc.in_features\n",
        "New_Teacher.fc = nn.Linear(noFTRS1, 10)\n",
        "New_Teacher = New_Teacher.to(device)\n",
        "lossFunction = nn.CrossEntropyLoss()\n",
        "params_1x = [param for name, param in New_Teacher.named_parameters() if 'fc' not in str(name)]\n",
        "optimizer2 = optim.Adam([{'params':params_1x}, {'params': New_Teacher.fc.parameters()}])"
      ],
      "metadata": {
        "id": "R3svWHe_tu_X"
      },
      "execution_count": 13,
      "outputs": []
    },
    {
      "cell_type": "code",
      "source": [
        "resnet_new_teacher = trainTest(New_Teacher,trainloader,\n",
        "                                   valloader,lossFunction,optimizer2,\n",
        "                                   len_trainset,len_valset,1)"
      ],
      "metadata": {
        "colab": {
          "base_uri": "https://localhost:8080/"
        },
        "id": "PDk5djdBvEK6",
        "outputId": "930bd369-bf64-43b4-8860-f35eec108c10"
      },
      "execution_count": null,
      "outputs": [
        {
          "output_type": "stream",
          "name": "stdout",
          "text": [
            "Epoch 0/0\n",
            "----------\n"
          ]
        }
      ]
    },
    {
      "cell_type": "markdown",
      "source": [
        "after 6 hours and  half being run, unfortunately the resnet 50 couldn't be trained. but it is obvious that with the full fine tuning student model will perform better. since the teacher model hasn't trained successfully, the student model can't be trained either. the training code for the student model ,though has been provided below. "
      ],
      "metadata": {
        "id": "FvSblYW7feaB"
      }
    },
    {
      "cell_type": "markdown",
      "source": [
        "best acc =0.8319"
      ],
      "metadata": {
        "id": "KrGGeYNify22"
      }
    },
    {
      "cell_type": "code",
      "source": [
        "student_model2=models.resnet18()\n",
        "NCS2 = student_model2.fc.in_features  #number of classes in student model\n",
        "student_model2.fc = nn.Linear(NCS2, 10)\n",
        "student_model2 = student_model2.to(device)"
      ],
      "metadata": {
        "id": "snIty3JZvNMq"
      },
      "execution_count": null,
      "outputs": []
    },
    {
      "cell_type": "code",
      "source": [
        "stud2=train_and_evaluate_kd(student_model2,resnet_new_teacher, optim.Adam(student_model2.parameters()),loss_kd,trainloader,valloader,1,0.5,20)"
      ],
      "metadata": {
        "id": "iZ5W1xyavUMP"
      },
      "execution_count": null,
      "outputs": []
    },
    {
      "cell_type": "markdown",
      "source": [
        "it is obvious that having resnet 50 fully fine tuned on cifar 10, the weights are tuned well, so the dark knowladge can be better transfered to the student model while we use knowladge distillation. so we expect to have better perfomance of the student model afterwards. "
      ],
      "metadata": {
        "id": "vQIDjWSFitBx"
      }
    }
  ]
}