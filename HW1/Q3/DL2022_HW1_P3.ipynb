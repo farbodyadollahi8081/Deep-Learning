{
  "cells": [
    {
      "cell_type": "markdown",
      "metadata": {
        "id": "view-in-github",
        "colab_type": "text"
      },
      "source": [
        "<a href=\"https://colab.research.google.com/github/farbodyadollahi8081/Deep-Learning/blob/main/HW1/Q3/DL2022_HW1_P3.ipynb\" target=\"_parent\"><img src=\"https://colab.research.google.com/assets/colab-badge.svg\" alt=\"Open In Colab\"/></a>"
      ]
    },
    {
      "cell_type": "markdown",
      "metadata": {
        "deletable": false,
        "editable": false,
        "heading_collapsed": true,
        "run_control": {
          "frozen": true
        },
        "id": "qIHLr3y81yP1"
      },
      "source": [
        "# Deep Learning"
      ]
    },
    {
      "cell_type": "markdown",
      "metadata": {
        "deletable": false,
        "editable": false,
        "heading_collapsed": true,
        "hidden": true,
        "run_control": {
          "frozen": true
        },
        "id": "YmJny_vn1yP6"
      },
      "source": [
        "## HW1- Problem 3 - Regression (100 pts)"
      ]
    },
    {
      "cell_type": "markdown",
      "metadata": {
        "heading_collapsed": true,
        "hidden": true,
        "id": "IjgZ7C4O1yP8"
      },
      "source": [
        "### Please fill this part\n",
        "\n",
        "\n",
        "1.   Full Name: Farbod Yadollahi\n",
        "2.   Student Number: 98102595\n",
        "\n",
        "\n",
        "*You are just allowded to change those parts that start with \"TO DO\". Please do not change other parts.*\n",
        "\n",
        "*It is highly recommended to read each codeline carefully and try to understand what it exactly does. Best of luck and have fun!*"
      ]
    },
    {
      "cell_type": "code",
      "execution_count": null,
      "metadata": {
        "hidden": true,
        "id": "AS3K1Qth1yP9"
      },
      "outputs": [],
      "source": [
        "# You are not allowed to import other packages.\n",
        "\n",
        "import numpy as np\n",
        "import pandas as pd\n",
        "\n",
        "from matplotlib import pyplot as plt\n",
        "from sklearn.metrics import mean_squared_error"
      ]
    },
    {
      "cell_type": "code",
      "source": [
        "from google.colab import files\n",
        "data= files.upload()"
      ],
      "metadata": {
        "colab": {
          "base_uri": "https://localhost:8080/",
          "height": 75
        },
        "id": "OaElrNvx52Cf",
        "outputId": "c642e5c2-d4e3-443f-cb5d-71e0536b0ea3"
      },
      "execution_count": null,
      "outputs": [
        {
          "output_type": "display_data",
          "data": {
            "text/plain": [
              "<IPython.core.display.HTML object>"
            ],
            "text/html": [
              "\n",
              "     <input type=\"file\" id=\"files-2ab6710a-d1a2-4460-81d8-83646d68bd86\" name=\"files[]\" multiple disabled\n",
              "        style=\"border:none\" />\n",
              "     <output id=\"result-2ab6710a-d1a2-4460-81d8-83646d68bd86\">\n",
              "      Upload widget is only available when the cell has been executed in the\n",
              "      current browser session. Please rerun this cell to enable.\n",
              "      </output>\n",
              "      <script>// Copyright 2017 Google LLC\n",
              "//\n",
              "// Licensed under the Apache License, Version 2.0 (the \"License\");\n",
              "// you may not use this file except in compliance with the License.\n",
              "// You may obtain a copy of the License at\n",
              "//\n",
              "//      http://www.apache.org/licenses/LICENSE-2.0\n",
              "//\n",
              "// Unless required by applicable law or agreed to in writing, software\n",
              "// distributed under the License is distributed on an \"AS IS\" BASIS,\n",
              "// WITHOUT WARRANTIES OR CONDITIONS OF ANY KIND, either express or implied.\n",
              "// See the License for the specific language governing permissions and\n",
              "// limitations under the License.\n",
              "\n",
              "/**\n",
              " * @fileoverview Helpers for google.colab Python module.\n",
              " */\n",
              "(function(scope) {\n",
              "function span(text, styleAttributes = {}) {\n",
              "  const element = document.createElement('span');\n",
              "  element.textContent = text;\n",
              "  for (const key of Object.keys(styleAttributes)) {\n",
              "    element.style[key] = styleAttributes[key];\n",
              "  }\n",
              "  return element;\n",
              "}\n",
              "\n",
              "// Max number of bytes which will be uploaded at a time.\n",
              "const MAX_PAYLOAD_SIZE = 100 * 1024;\n",
              "\n",
              "function _uploadFiles(inputId, outputId) {\n",
              "  const steps = uploadFilesStep(inputId, outputId);\n",
              "  const outputElement = document.getElementById(outputId);\n",
              "  // Cache steps on the outputElement to make it available for the next call\n",
              "  // to uploadFilesContinue from Python.\n",
              "  outputElement.steps = steps;\n",
              "\n",
              "  return _uploadFilesContinue(outputId);\n",
              "}\n",
              "\n",
              "// This is roughly an async generator (not supported in the browser yet),\n",
              "// where there are multiple asynchronous steps and the Python side is going\n",
              "// to poll for completion of each step.\n",
              "// This uses a Promise to block the python side on completion of each step,\n",
              "// then passes the result of the previous step as the input to the next step.\n",
              "function _uploadFilesContinue(outputId) {\n",
              "  const outputElement = document.getElementById(outputId);\n",
              "  const steps = outputElement.steps;\n",
              "\n",
              "  const next = steps.next(outputElement.lastPromiseValue);\n",
              "  return Promise.resolve(next.value.promise).then((value) => {\n",
              "    // Cache the last promise value to make it available to the next\n",
              "    // step of the generator.\n",
              "    outputElement.lastPromiseValue = value;\n",
              "    return next.value.response;\n",
              "  });\n",
              "}\n",
              "\n",
              "/**\n",
              " * Generator function which is called between each async step of the upload\n",
              " * process.\n",
              " * @param {string} inputId Element ID of the input file picker element.\n",
              " * @param {string} outputId Element ID of the output display.\n",
              " * @return {!Iterable<!Object>} Iterable of next steps.\n",
              " */\n",
              "function* uploadFilesStep(inputId, outputId) {\n",
              "  const inputElement = document.getElementById(inputId);\n",
              "  inputElement.disabled = false;\n",
              "\n",
              "  const outputElement = document.getElementById(outputId);\n",
              "  outputElement.innerHTML = '';\n",
              "\n",
              "  const pickedPromise = new Promise((resolve) => {\n",
              "    inputElement.addEventListener('change', (e) => {\n",
              "      resolve(e.target.files);\n",
              "    });\n",
              "  });\n",
              "\n",
              "  const cancel = document.createElement('button');\n",
              "  inputElement.parentElement.appendChild(cancel);\n",
              "  cancel.textContent = 'Cancel upload';\n",
              "  const cancelPromise = new Promise((resolve) => {\n",
              "    cancel.onclick = () => {\n",
              "      resolve(null);\n",
              "    };\n",
              "  });\n",
              "\n",
              "  // Wait for the user to pick the files.\n",
              "  const files = yield {\n",
              "    promise: Promise.race([pickedPromise, cancelPromise]),\n",
              "    response: {\n",
              "      action: 'starting',\n",
              "    }\n",
              "  };\n",
              "\n",
              "  cancel.remove();\n",
              "\n",
              "  // Disable the input element since further picks are not allowed.\n",
              "  inputElement.disabled = true;\n",
              "\n",
              "  if (!files) {\n",
              "    return {\n",
              "      response: {\n",
              "        action: 'complete',\n",
              "      }\n",
              "    };\n",
              "  }\n",
              "\n",
              "  for (const file of files) {\n",
              "    const li = document.createElement('li');\n",
              "    li.append(span(file.name, {fontWeight: 'bold'}));\n",
              "    li.append(span(\n",
              "        `(${file.type || 'n/a'}) - ${file.size} bytes, ` +\n",
              "        `last modified: ${\n",
              "            file.lastModifiedDate ? file.lastModifiedDate.toLocaleDateString() :\n",
              "                                    'n/a'} - `));\n",
              "    const percent = span('0% done');\n",
              "    li.appendChild(percent);\n",
              "\n",
              "    outputElement.appendChild(li);\n",
              "\n",
              "    const fileDataPromise = new Promise((resolve) => {\n",
              "      const reader = new FileReader();\n",
              "      reader.onload = (e) => {\n",
              "        resolve(e.target.result);\n",
              "      };\n",
              "      reader.readAsArrayBuffer(file);\n",
              "    });\n",
              "    // Wait for the data to be ready.\n",
              "    let fileData = yield {\n",
              "      promise: fileDataPromise,\n",
              "      response: {\n",
              "        action: 'continue',\n",
              "      }\n",
              "    };\n",
              "\n",
              "    // Use a chunked sending to avoid message size limits. See b/62115660.\n",
              "    let position = 0;\n",
              "    do {\n",
              "      const length = Math.min(fileData.byteLength - position, MAX_PAYLOAD_SIZE);\n",
              "      const chunk = new Uint8Array(fileData, position, length);\n",
              "      position += length;\n",
              "\n",
              "      const base64 = btoa(String.fromCharCode.apply(null, chunk));\n",
              "      yield {\n",
              "        response: {\n",
              "          action: 'append',\n",
              "          file: file.name,\n",
              "          data: base64,\n",
              "        },\n",
              "      };\n",
              "\n",
              "      let percentDone = fileData.byteLength === 0 ?\n",
              "          100 :\n",
              "          Math.round((position / fileData.byteLength) * 100);\n",
              "      percent.textContent = `${percentDone}% done`;\n",
              "\n",
              "    } while (position < fileData.byteLength);\n",
              "  }\n",
              "\n",
              "  // All done.\n",
              "  yield {\n",
              "    response: {\n",
              "      action: 'complete',\n",
              "    }\n",
              "  };\n",
              "}\n",
              "\n",
              "scope.google = scope.google || {};\n",
              "scope.google.colab = scope.google.colab || {};\n",
              "scope.google.colab._files = {\n",
              "  _uploadFiles,\n",
              "  _uploadFilesContinue,\n",
              "};\n",
              "})(self);\n",
              "</script> "
            ]
          },
          "metadata": {}
        },
        {
          "output_type": "stream",
          "name": "stdout",
          "text": [
            "Saving data01.csv to data01 (1).csv\n"
          ]
        }
      ]
    },
    {
      "cell_type": "markdown",
      "metadata": {
        "deletable": false,
        "editable": false,
        "heading_collapsed": true,
        "hidden": true,
        "run_control": {
          "frozen": true
        },
        "id": "R-Z0twdJ1yQA"
      },
      "source": [
        "### Part1:\n",
        "Consider the dataset which has been given to you. Split the dataset into the `training dataset` and `test dataset`. You can use `80%` of the data for training and the rest for testing."
      ]
    },
    {
      "cell_type": "code",
      "execution_count": null,
      "metadata": {
        "hidden": true,
        "id": "0ohmXtUW1yQB"
      },
      "outputs": [],
      "source": [
        "dataset = pd.read_csv(\"data01.csv\")\n",
        "\n",
        "# implement the split part\n",
        "# name them: x_train, x_test, y_train, y_test\n",
        "training_data=dataset.sample(frac=0.8,random_state=42)\n",
        "testing_data=dataset.drop(training_data.index)\n",
        "x_train = training_data.X\n",
        "y_train = training_data.Y\n",
        "x_test = testing_data.X\n",
        "y_test = testing_data.Y"
      ]
    },
    {
      "cell_type": "markdown",
      "metadata": {
        "deletable": false,
        "editable": false,
        "heading_collapsed": true,
        "hidden": true,
        "run_control": {
          "frozen": true
        },
        "id": "xCdVkaiK1yQC"
      },
      "source": [
        "### Part2:\n",
        "Assume there is simple linear relationship between X and Y. Train a simple `Linear Regression` on the training dataset and report its accuracy on the training and testing dataset, separately."
      ]
    },
    {
      "cell_type": "code",
      "execution_count": null,
      "metadata": {
        "hidden": true,
        "colab": {
          "base_uri": "https://localhost:8080/"
        },
        "id": "_QxmXagt1yQE",
        "outputId": "c984d787-8334-44ea-f9ea-f5ef10c27038"
      },
      "outputs": [
        {
          "output_type": "stream",
          "name": "stdout",
          "text": [
            "[-1.01107853  0.81230591]\n"
          ]
        }
      ],
      "source": [
        "# here you can implement via sgd or use least square solution. we suggest the second one inv(A^T A) * A^T y.\n",
        "# consider m as the returned line --> m[0] = the slope , m[1] = y intercept, also don't forget to use numpy for calculating m.\n",
        "A = np.vstack([x_train, np.ones(len(x_train))]).T\n",
        "y=np.array(y_train)\n",
        "m = np.dot(np.linalg.pinv(A),y) #pinv function does the same as inv(A^T A)*A^T\n",
        "print(m)"
      ]
    },
    {
      "cell_type": "code",
      "execution_count": null,
      "metadata": {
        "hidden": true,
        "colab": {
          "base_uri": "https://localhost:8080/"
        },
        "id": "Ur9xCULE1yQF",
        "outputId": "a6dfa1e2-7c60-44e2-ab5d-696b3dae894b"
      },
      "outputs": [
        {
          "output_type": "stream",
          "name": "stdout",
          "text": [
            "MSE train error: 0.32910926545642\n",
            "MSE test error: 0.3365156412134214\n"
          ]
        }
      ],
      "source": [
        "predicted_train_y = m[0] * x_train + m[1]\n",
        "predicted_test_y = m[0] * x_test + m[1]\n",
        "\n",
        "train_error = np.square(np.subtract(y_train,predicted_train_y)).mean()\n",
        "test_error = np.square(np.subtract(y_test,predicted_test_y)).mean()\n",
        "\n",
        "print(f\"MSE train error: {train_error}\\nMSE test error: {test_error}\")"
      ]
    },
    {
      "cell_type": "markdown",
      "metadata": {
        "deletable": false,
        "editable": false,
        "heading_collapsed": true,
        "hidden": true,
        "run_control": {
          "frozen": true
        },
        "id": "5GSDUNcG1yQG"
      },
      "source": [
        "### Part3:\n",
        "Draw the line you've found in the last part, on train and test points (each separately)."
      ]
    },
    {
      "cell_type": "code",
      "execution_count": null,
      "metadata": {
        "hidden": true,
        "colab": {
          "base_uri": "https://localhost:8080/",
          "height": 299
        },
        "id": "5HdrFTSN1yQH",
        "outputId": "b2feec4b-c4a7-4933-b2c7-19107e710fcc"
      },
      "outputs": [
        {
          "output_type": "execute_result",
          "data": {
            "text/plain": [
              "Text(0.5, 1.0, 'Train dataset')"
            ]
          },
          "metadata": {},
          "execution_count": 116
        },
        {
          "output_type": "display_data",
          "data": {
            "text/plain": [
              "<Figure size 432x288 with 1 Axes>"
            ],
            "image/png": "[encoded data removed]"
          },
          "metadata": {
            "needs_background": "light"
          }
        }
      ],
      "source": [
        "plt.scatter(x_train, y_train)\n",
        "plt.scatter(x_train, m[0]*x_train + m[1], s=1)\n",
        "plt.title(\"Train dataset\")"
      ]
    },
    {
      "cell_type": "code",
      "execution_count": null,
      "metadata": {
        "hidden": true,
        "colab": {
          "base_uri": "https://localhost:8080/",
          "height": 299
        },
        "id": "kqDN7tUq1yQI",
        "outputId": "6f6c705c-feea-4da2-a0bc-758db9ae0ae1"
      },
      "outputs": [
        {
          "output_type": "execute_result",
          "data": {
            "text/plain": [
              "Text(0.5, 1.0, 'Test dataset')"
            ]
          },
          "metadata": {},
          "execution_count": 117
        },
        {
          "output_type": "display_data",
          "data": {
            "text/plain": [
              "<Figure size 432x288 with 1 Axes>"
            ],
            "image/png": "[encoded data removed]"
          },
          "metadata": {
            "needs_background": "light"
          }
        }
      ],
      "source": [
        "plt.scatter(x_test, y_test)\n",
        "plt.scatter(x_test, m[0]*x_test + m[1], s=1)\n",
        "plt.title(\"Test dataset\")"
      ]
    },
    {
      "cell_type": "markdown",
      "metadata": {
        "deletable": false,
        "editable": false,
        "heading_collapsed": true,
        "hidden": true,
        "run_control": {
          "frozen": true
        },
        "id": "qi4EXRCm1yQJ"
      },
      "source": [
        "### Part4:\n",
        "Were the reported accuracies acceptable?\n",
        "\n",
        "What about the line you drew in the last part?\n",
        "\n",
        "Was it appropriate for the dataset?\n",
        "<br><br/>\n",
        "Explain what are the main problems here."
      ]
    },
    {
      "cell_type": "markdown",
      "metadata": {
        "hidden": true,
        "id": "lYot5Hv-1yQL"
      },
      "source": [
        "the MSEs  are acceptable. the ffitted line,though is unacceptable due to the fact that the data is barely linear. a non linear model can better meet the needs. "
      ]
    },
    {
      "cell_type": "markdown",
      "metadata": {
        "deletable": false,
        "editable": false,
        "heading_collapsed": true,
        "hidden": true,
        "run_control": {
          "frozen": true
        },
        "id": "T4V5NQzL1yQM"
      },
      "source": [
        "### Part5:\n",
        "Now, consider the `Locally Weighted Linear Regression` approach for this problem. Do expect it performs better than simple `Linear Regression` for this dataset?"
      ]
    },
    {
      "cell_type": "markdown",
      "metadata": {
        "hidden": true,
        "id": "owYwDyDF1yQN"
      },
      "source": [
        "of cource ues. the locally weighted regression fits multiple lines each fits locally to the data. therefore better piecewise linear model can be fit to the data which resukts in a better performance"
      ]
    },
    {
      "cell_type": "markdown",
      "metadata": {
        "deletable": false,
        "editable": false,
        "heading_collapsed": true,
        "hidden": true,
        "run_control": {
          "frozen": true
        },
        "id": "1MDsCum91yQN"
      },
      "source": [
        "### Part6:\n",
        "Here, we want to implement the `suggested model`. You can implement any weight function you want, the below implementation is just a sample:\n",
        "<br><br/>\n",
        "\\begin{equation*}\n",
        "    w^{(i)}=exp\\left(-\\frac{(\\mathbf x^{(i)}-\\mathbf x)^\\top(\\mathbf x^{(i)}-\\mathbf x)}{2\\tau^2}\\right)\n",
        "\\end{equation*}"
      ]
    },
    {
      "cell_type": "code",
      "execution_count": null,
      "metadata": {
        "hidden": true,
        "id": "ZHuEpQLy1yQO"
      },
      "outputs": [],
      "source": [
        "def get_weight_matrix(the_query_point, train_dataset, hyperparameter):\n",
        "  l = train_dataset.shape[0]\n",
        "  W = np.mat(np.eye(l))\n",
        "  for i, xi in enumerate(train_dataset):\n",
        "    W[i, i] = np.exp(-(np.subtract(xi,the_query_point)*(np.subtract(xi,the_query_point).T))/(2*hyperparameter**2))\n",
        "  return W"
      ]
    },
    {
      "cell_type": "markdown",
      "metadata": {
        "deletable": false,
        "editable": false,
        "hidden": true,
        "run_control": {
          "frozen": true
        },
        "id": "QR4geHH91yQP"
      },
      "source": [
        "Now implement the `closed form solution` based on the following formula:\n",
        "<br><br/>\n",
        "\\begin{equation*}\n",
        "    \\boldsymbol\\theta=(X^\\top WX)^{-1}(X^\\top WY)\n",
        "\\end{equation*}\n",
        "<br><br/>\n",
        "Of course if you use another form, implement your own."
      ]
    },
    {
      "cell_type": "code",
      "execution_count": null,
      "metadata": {
        "hidden": true,
        "id": "JSkeKYd-1yQQ"
      },
      "outputs": [],
      "source": [
        "def predict(train_X, train_Y, query_x, hyperparameter):\n",
        "    l = train_X.shape[0]\n",
        "    train_X=np.mat(np.reshape(np.array(train_X),(l,1)))\n",
        "    train_Y=np.mat(np.reshape(np.array(train_Y),(l,1)))\n",
        "    X = np.hstack((train_X,np.ones((l,1))))\n",
        "    qx = np.mat([query_x, 1])\n",
        "    W = get_weight_matrix(qx, X, hyperparameter)\n",
        "    theta =np.linalg.inv(X.T*W*X)*(X.T*W*train_Y)\n",
        "    return np.dot(qx,theta)[0,0]"
      ]
    },
    {
      "cell_type": "markdown",
      "metadata": {
        "deletable": false,
        "editable": false,
        "heading_collapsed": true,
        "hidden": true,
        "run_control": {
          "frozen": true
        },
        "id": "XLVyGHfT1yQR"
      },
      "source": [
        "### Part7:\n",
        "Report accuracy of this model on the test dataset. Also, draw a plot that contains (x_test, y_test) pairs and (x_test, predicted_y) pairs that differ in color."
      ]
    },
    {
      "cell_type": "code",
      "execution_count": null,
      "metadata": {
        "hidden": true,
        "colab": {
          "base_uri": "https://localhost:8080/"
        },
        "id": "DHFb5xi61yQS",
        "outputId": "33a80b1b-0706-472b-a245-c108b061ab75"
      },
      "outputs": [
        {
          "output_type": "stream",
          "name": "stdout",
          "text": [
            "MSE test error: 0.10786841458320681\n"
          ]
        }
      ],
      "source": [
        "predicted_test = [predict(x_train, y_train, query, hyperparameter=0.1) for query in x_test]\n",
        "error =  np.square(np.subtract(y_test,predicted_test)).mean()\n",
        "print(f\"MSE test error: {error}\")"
      ]
    },
    {
      "cell_type": "code",
      "execution_count": null,
      "metadata": {
        "hidden": true,
        "id": "rxCLv08u1yQS",
        "colab": {
          "base_uri": "https://localhost:8080/",
          "height": 283
        },
        "outputId": "2bb2872e-c044-47bd-ac23-5a161c52c6c1"
      },
      "outputs": [
        {
          "output_type": "execute_result",
          "data": {
            "text/plain": [
              "<matplotlib.collections.PathCollection at 0x7f009c961c10>"
            ]
          },
          "metadata": {},
          "execution_count": 121
        },
        {
          "output_type": "display_data",
          "data": {
            "text/plain": [
              "<Figure size 432x288 with 1 Axes>"
            ],
            "image/png": "[encoded data removed]"
          },
          "metadata": {
            "needs_background": "light"
          }
        }
      ],
      "source": [
        "plt.scatter(x_test, y_test, c=\"blue\")\n",
        "plt.scatter(x_test, predicted_test, c=\"yellow\")"
      ]
    },
    {
      "cell_type": "markdown",
      "metadata": {
        "deletable": false,
        "editable": false,
        "heading_collapsed": true,
        "hidden": true,
        "run_control": {
          "frozen": true
        },
        "id": "CviPF2va1yQU"
      },
      "source": [
        "### Part8:\n",
        "Is the performance of the new model better than the previous one? `Explain`."
      ]
    },
    {
      "cell_type": "markdown",
      "metadata": {
        "hidden": true,
        "id": "pxF-n3LY1yQU"
      },
      "source": [
        "yes. the MSE proves the betterment. it is much lower than the previous model. in addition the fitted model is much better for the non linear data we have.it predicts tha data well enough and it considers its non linearity"
      ]
    },
    {
      "cell_type": "markdown",
      "metadata": {
        "deletable": false,
        "editable": false,
        "heading_collapsed": true,
        "hidden": true,
        "run_control": {
          "frozen": true
        },
        "id": "MOmY8yge1yQV"
      },
      "source": [
        "### Part9:\n",
        "Now, we want to consider the `KNN` approach for this problem; Do you think it will perform well?"
      ]
    },
    {
      "cell_type": "markdown",
      "metadata": {
        "hidden": true,
        "id": "sAUEmsxY1yQV"
      },
      "source": [
        "it seems that it might better predict the data but it might have some issues related to the error as it considers distance between each test point to its nearest neighbors. due to indexing, its nearest index might not be its nearest neigbor which results in a poor MSE"
      ]
    },
    {
      "cell_type": "markdown",
      "metadata": {
        "deletable": false,
        "editable": false,
        "heading_collapsed": true,
        "hidden": true,
        "run_control": {
          "frozen": true
        },
        "id": "Z8WvHuXp1yQW"
      },
      "source": [
        "### Part10:\n",
        "Implementing the `KNN model`."
      ]
    },
    {
      "cell_type": "code",
      "execution_count": null,
      "metadata": {
        "hidden": true,
        "id": "dgwb9hFH1yQW"
      },
      "outputs": [],
      "source": [
        "class KNN:\n",
        "    def __init__(self, number_neighbours, X, Y):\n",
        "        self.k = number_neighbours\n",
        "        self.X = X\n",
        "        self.Y = Y\n",
        "\n",
        "    def distance(self, x1, x2):\n",
        "        distance = np.sqrt((x1-x2)**2)\n",
        "        return distance\n",
        "\n",
        "    def return_nn_ids(self, x):\n",
        "        indices = np.argsort([self.distance(x,i) for i in self.X], axis = 0)[:self.k]\n",
        "        return indices\n",
        "\n",
        "    def predict(self, x):\n",
        "        neareest_indices = self.return_nn_ids(x)\n",
        "        predicted_y = np.array([(self.Y[i]) for i in neareest_indices]).mean()\n",
        "        return predicted_y"
      ]
    },
    {
      "cell_type": "code",
      "execution_count": null,
      "metadata": {
        "hidden": true,
        "id": "ga8uD1Qt1yQX"
      },
      "outputs": [],
      "source": [
        "def evaluation(k, x_train, y_train, x_test, y_test):\n",
        "    model = KNN(k, x_train, y_train)\n",
        "    predicted_y = [model.predict(x) for x in x_test]\n",
        "    error =  np.square(np.subtract(y_test,predicted_y)).mean()\n",
        "    return error, predicted_y"
      ]
    },
    {
      "cell_type": "code",
      "execution_count": null,
      "metadata": {
        "hidden": true,
        "id": "VazXBpS51yQY",
        "colab": {
          "base_uri": "https://localhost:8080/"
        },
        "outputId": "210faa4a-441c-4259-daf7-1e965ce93f46"
      },
      "outputs": [
        {
          "output_type": "stream",
          "name": "stdout",
          "text": [
            "MSE error of KNN for test dataset: 1.3664865055225666\n"
          ]
        }
      ],
      "source": [
        "k = 10\n",
        "x_train=np.reshape(np.array(x_train),(x_train.shape[0],1))\n",
        "y_train=np.reshape(np.array(y_train),(y_train.shape[0],1))\n",
        "x_test=np.reshape(np.array(x_test),(x_test.shape[0],1))\n",
        "y_test=np.reshape(np.array(y_test),(y_test.shape[0],1))\n",
        "error_knn, predicted_y = evaluation(k, x_train, y_train, x_test, y_test)\n",
        "print(f\"MSE error of KNN for test dataset: {error_knn}\")"
      ]
    },
    {
      "cell_type": "code",
      "execution_count": null,
      "metadata": {
        "hidden": true,
        "id": "KCV0WBjI1yQY",
        "colab": {
          "base_uri": "https://localhost:8080/",
          "height": 283
        },
        "outputId": "fee5a572-bd41-47a7-cdc6-957ab6b1c83f"
      },
      "outputs": [
        {
          "output_type": "execute_result",
          "data": {
            "text/plain": [
              "<matplotlib.collections.PathCollection at 0x7f00a017f990>"
            ]
          },
          "metadata": {},
          "execution_count": 143
        },
        {
          "output_type": "display_data",
          "data": {
            "text/plain": [
              "<Figure size 432x288 with 1 Axes>"
            ],
            "image/png": "[encoded data removed]"
          },
          "metadata": {
            "needs_background": "light"
          }
        }
      ],
      "source": [
        "plt.scatter(x_test, y_test, c=\"blue\")\n",
        "plt.scatter(x_test, predicted_y, c=\"yellow\")"
      ]
    },
    {
      "cell_type": "markdown",
      "metadata": {
        "deletable": false,
        "editable": false,
        "hidden": true,
        "run_control": {
          "frozen": true
        },
        "id": "PT6koUdK1yQZ"
      },
      "source": [
        "To find best K for this algorithm we suggest to use cross-validation.\n",
        "<br><br/>\n",
        "Did this model perform well (due to the plot and test accuracy)?"
      ]
    },
    {
      "cell_type": "markdown",
      "metadata": {
        "hidden": true,
        "id": "gHkbLmcd1yQZ"
      },
      "source": [
        "the plot shows a good prediction of the data, but the accuracy is not that good"
      ]
    }
  ],
  "metadata": {
    "kernelspec": {
      "display_name": "Python 3.7.4 64-bit",
      "language": "python",
      "name": "python3"
    },
    "language_info": {
      "codemirror_mode": {
        "name": "ipython",
        "version": 3
      },
      "file_extension": ".py",
      "mimetype": "text/x-python",
      "name": "python",
      "nbconvert_exporter": "python",
      "pygments_lexer": "ipython3",
      "version": "3.7.4"
    },
    "toc": {
      "base_numbering": 1,
      "nav_menu": {},
      "number_sections": true,
      "sideBar": true,
      "skip_h1_title": false,
      "title_cell": "Table of Contents",
      "title_sidebar": "Contents",
      "toc_cell": false,
      "toc_position": {},
      "toc_section_display": true,
      "toc_window_display": false
    },
    "varInspector": {
      "cols": {
        "lenName": 16,
        "lenType": 16,
        "lenVar": 40
      },
      "kernels_config": {
        "python": {
          "delete_cmd_postfix": "",
          "delete_cmd_prefix": "del ",
          "library": "var_list.py",
          "varRefreshCmd": "print(var_dic_list())"
        },
        "r": {
          "delete_cmd_postfix": ") ",
          "delete_cmd_prefix": "rm(",
          "library": "var_list.r",
          "varRefreshCmd": "cat(var_dic_list()) "
        }
      },
      "types_to_exclude": [
        "module",
        "function",
        "builtin_function_or_method",
        "instance",
        "_Feature"
      ],
      "window_display": false
    },
    "vscode": {
      "interpreter": {
        "hash": "aee8b7b246df8f9039afb4144a1f6fd8d2ca17a180786b69acc140d282b71a49"
      }
    },
    "colab": {
      "provenance": [],
      "include_colab_link": true
    }
  },
  "nbformat": 4,
  "nbformat_minor": 0
}